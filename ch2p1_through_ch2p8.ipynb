{
 "cells": [
  {
   "cell_type": "markdown",
   "metadata": {},
   "source": [
    "# B.2 MATLAB Examples"
   ]
  },
  {
   "cell_type": "markdown",
   "metadata": {},
   "source": [
    "## Chapter 2: Modeling in the Frequency Domain"
   ]
  },
  {
   "cell_type": "markdown",
   "metadata": {},
   "source": [
    "#### From *Control Systems Engineering, 6th, Norman Nise*"
   ]
  },
  {
   "cell_type": "markdown",
   "metadata": {},
   "source": [
    "__ch2p1__ Comments begin with `#` and are ignored by Python. Numbers can be entered without any other characters. Arithmetic can be performed using the proper arithmetic operator. Numbers can be assigned using a left-hand argument and an equals sign. Finally, we can find the magnitude and angle of a complex number, Q using `abs(Q)` and `angle(Q)` from the `numpy` library. We must first import the `numpy` library to use these functions."
   ]
  },
  {
   "cell_type": "code",
   "execution_count": 1,
   "metadata": {},
   "outputs": [],
   "source": [
    "import numpy as np # Import necessary library for angle and mag functions"
   ]
  },
  {
   "cell_type": "code",
   "execution_count": 2,
   "metadata": {},
   "outputs": [
    {
     "name": "stdout",
     "output_type": "stream",
     "text": [
      "ch2p1\n",
      "How are you?\n",
      "-3.96\n",
      "(-4+7j)\n",
      "(-5-6j)\n",
      "(-9+1j)\n",
      "(62-11j)\n",
      "M = 5\n",
      "N = 6\n",
      "P = 11\n",
      "Q = (3+4j)\n",
      "MagQ = 5.0\n",
      "ThetaQ = 53.13010235415598\n"
     ]
    }
   ],
   "source": [
    "print('ch2p1')\n",
    "print('How are you?')\n",
    "print(-3.96)\n",
    "print(-4+7j)\n",
    "print(-5-6j)\n",
    "print((-4+7j)+(-5-6j))\n",
    "print((-4+7j)*(-5-6j))\n",
    "M = 5\n",
    "print('M = ' + str(M))\n",
    "M\n",
    "N = 6\n",
    "print('N = ' + str(N))\n",
    "P = M + N\n",
    "print('P = ' + str(P))\n",
    "Q = 3+4j\n",
    "print('Q = ' + str(Q))\n",
    "MagQ = abs(Q)\n",
    "print('MagQ = ' + str(MagQ))\n",
    "ThetaQ = (180/np.pi)*np.angle(Q)\n",
    "print('ThetaQ = ' + str(ThetaQ))"
   ]
  },
  {
   "cell_type": "markdown",
   "metadata": {},
   "source": [
    "__ch2p2__ Polynomials in $s$ can be represented as row vectors containing the coefficients. Thus $P_{1} = s^{2} + 7s^{2} - 3s + 23$ can be represented by the vector shown below with elements separated by a space or comma."
   ]
  },
  {
   "cell_type": "code",
   "execution_count": 7,
   "metadata": {},
   "outputs": [
    {
     "name": "stdout",
     "output_type": "stream",
     "text": [
      "ch2p2\n",
      "P1 = [ 1  7 -3 23]\n"
     ]
    }
   ],
   "source": [
    "print('ch2p2')\n",
    "P1 = np.array([1, 7, -3, 23])\n",
    "print('P1 = ' + str(P1))"
   ]
  },
  {
   "cell_type": "markdown",
   "metadata": {},
   "source": [
    "__ch2p3__ Running the previous statements causes Python to display the results. Without the `print()` statement, `P1` will still be in memory, but will not be displayed. You can, however, enter either an expression or a variable at the command prompt, and the value will be displayed at the output."
   ]
  },
  {
   "cell_type": "code",
   "execution_count": 8,
   "metadata": {
    "scrolled": true
   },
   "outputs": [
    {
     "name": "stdout",
     "output_type": "stream",
     "text": [
      "ch2p3\n"
     ]
    }
   ],
   "source": [
    "print('ch2p3')\n",
    "P2 = np.array([3,5,7,8])"
   ]
  },
  {
   "cell_type": "code",
   "execution_count": 9,
   "metadata": {},
   "outputs": [
    {
     "data": {
      "text/plain": [
       "15"
      ]
     },
     "execution_count": 9,
     "metadata": {},
     "output_type": "execute_result"
    }
   ],
   "source": [
    "3*5 # compute expression and display at output"
   ]
  },
  {
   "cell_type": "code",
   "execution_count": 10,
   "metadata": {},
   "outputs": [
    {
     "data": {
      "text/plain": [
       "array([3, 5, 7, 8])"
      ]
     },
     "execution_count": 10,
     "metadata": {},
     "output_type": "execute_result"
    }
   ],
   "source": [
    "P2 # display variable at output"
   ]
  },
  {
   "cell_type": "markdown",
   "metadata": {},
   "source": [
    "__ch2p4__ An $F(s)$ in factored form can be represented in polynomial form. Thus $P_{3} = (s+2)(s+5)(s+6)$ can be transformed into a polynomial using the `poly(V)` function from the numpy library, where `V` is a row vector containing the roots of the polynomial and `poly(V)` forms the coefficients of the polynomial."
   ]
  },
  {
   "cell_type": "code",
   "execution_count": 11,
   "metadata": {},
   "outputs": [
    {
     "name": "stdout",
     "output_type": "stream",
     "text": [
      "ch2p4\n",
      "P3 = [ 1. 13. 52. 60.]\n"
     ]
    }
   ],
   "source": [
    "print('ch2p4')\n",
    "P3 = np.poly([-2,-5,-6])\n",
    "print('P3 = ' + str(P3))"
   ]
  },
  {
   "cell_type": "markdown",
   "metadata": {},
   "source": [
    "__ch2p5__ We can find roots of polynomials using the `roots` function from the numpy library. The roots are returned as a column vector. For example, find the roots of $5s^{4} + 7s^{3} + 9s^{2} - 3s + 2 = 0$."
   ]
  },
  {
   "cell_type": "code",
   "execution_count": 12,
   "metadata": {},
   "outputs": [
    {
     "name": "stdout",
     "output_type": "stream",
     "text": [
      "ch2p5\n",
      "P4 = [-0.89509023+1.23506264j -0.89509023-1.23506264j  0.19509023+0.36587838j\n",
      "  0.19509023-0.36587838j]\n"
     ]
    }
   ],
   "source": [
    "print('ch2p5')\n",
    "P4 = np.array([5,7,9,-3,2])\n",
    "rootsP4 = np.roots(P4)\n",
    "print('P4 = ' + str(rootsP4))"
   ]
  },
  {
   "cell_type": "markdown",
   "metadata": {},
   "source": [
    "__ch2p6__ Polynomials can be multiplied together using the `convolve(a,b)` function from the numpy library. $P_{5} = (s^{3} + 7s^{2} + 10s + 9)(s^{4} -3s^{3} + 6s^{2} + 2s + 1)$ is generated below."
   ]
  },
  {
   "cell_type": "code",
   "execution_count": 13,
   "metadata": {},
   "outputs": [
    {
     "name": "stdout",
     "output_type": "stream",
     "text": [
      "ch2p6\n",
      "P5 = [ 1  4 -5 23 48 81 28  9]\n"
     ]
    }
   ],
   "source": [
    "print('ch2p6')\n",
    "P5 = np.convolve([1,7,10,9],[1,-3,6,2,1])\n",
    "print('P5 = ' + str(P5))"
   ]
  },
  {
   "cell_type": "markdown",
   "metadata": {},
   "source": [
    "__ch2p7__ The partial-fraction expansion for $F(s) = \\frac{b(s)}{a(s)}$ can be found using the `[r,p,k] = residue(b,a)` function from the `scipy` library. `r`=residue, `p`=roots/poles of denominator, and `k`=coefficients of the direct polynomial term. Optinally, we will use the `flip` function from the numpy library to reverse the order of the elements in `r`,`p`, and `k` so they go from \n",
    "\n",
    "We expand \n",
    "\n",
    "$\n",
    "F(s) = \\frac{7s^{2} + 9s + 12}{s(s+7)(s^{2} + 10s + 100)}\n",
    "$\n",
    "\n",
    "as an example. Using the results from Python yields:\n",
    "\n",
    "$\n",
    "F(s) = \\frac{0.2254 - 0.3382j}{s + 5.0000 - 8.6603j} + \n",
    "       \\frac{0.2254 + 0.3382j}{s + 5.0000 + 8.6603j} -\n",
    "       \\frac{0.5280}{s + 7} +\n",
    "       \\frac{0.0171}{s}\n",
    "$\n",
    ".\n"
   ]
  },
  {
   "cell_type": "code",
   "execution_count": 19,
   "metadata": {},
   "outputs": [
    {
     "name": "stdout",
     "output_type": "stream",
     "text": [
      "ch2p7\n",
      "K = [ 0.25544304+0.33822494j  0.25544304-0.33822494j -0.52802893+0.j\n",
      "  0.01714286+0.j        ]\n",
      "p = [-5.-8.66025404j -5.+8.66025404j -7.+0.j          0.+0.j        ]\n",
      "k = [0.]\n"
     ]
    }
   ],
   "source": [
    "print('ch2p7')\n",
    "import scipy.signal as sp\n",
    "numf = np.array([7,9,12])\n",
    "denf = np.convolve(np.poly([0,-7]),[1,10,100])\n",
    "[K,p,k] = sp.residue(numf,denf)\n",
    "K = np.flip(K)\n",
    "p = np.flip(p)\n",
    "k = np.flip(k)\n",
    "print('K = ' + str(K))\n",
    "print('p = ' + str(p))\n",
    "print('k = ' + str(k))"
   ]
  },
  {
   "cell_type": "markdown",
   "metadata": {},
   "source": [
    "__ch2p8__ Let us do Example 2.3 in the book using Python."
   ]
  },
  {
   "cell_type": "code",
   "execution_count": 18,
   "metadata": {},
   "outputs": [
    {
     "name": "stdout",
     "output_type": "stream",
     "text": [
      "(ch2p8) Example 2.3\n",
      "r = [ 1. -2.  1.]\n",
      "p = [ 0. -4. -8.]\n",
      "k = [0.]\n"
     ]
    }
   ],
   "source": [
    "print('(ch2p8) Example 2.3')\n",
    "numy = 32\n",
    "deny = np.poly([0,-4,-8])\n",
    "[r,p,k] = sp.residue(numy,deny)\n",
    "r = np.flip(r)\n",
    "p = np.flip(p)\n",
    "k = np.flip(k)\n",
    "print('r = ' + str(r))\n",
    "print('p = ' + str(p))\n",
    "print('k = ' + str(k))"
   ]
  },
  {
   "cell_type": "code",
   "execution_count": null,
   "metadata": {},
   "outputs": [],
   "source": []
  }
 ],
 "metadata": {
  "kernelspec": {
   "display_name": "Python 3",
   "language": "python",
   "name": "python3"
  },
  "language_info": {
   "codemirror_mode": {
    "name": "ipython",
    "version": 3
   },
   "file_extension": ".py",
   "mimetype": "text/x-python",
   "name": "python",
   "nbconvert_exporter": "python",
   "pygments_lexer": "ipython3",
   "version": "3.7.0"
  }
 },
 "nbformat": 4,
 "nbformat_minor": 2
}
