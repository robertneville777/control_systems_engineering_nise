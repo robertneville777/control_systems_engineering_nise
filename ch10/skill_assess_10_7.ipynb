{
 "cells": [
  {
   "cell_type": "markdown",
   "id": "515a4c48",
   "metadata": {},
   "source": [
    "## Skill-Assessment Exercise 10.7\n",
    "\n",
    "_Find the closed-loop bandwidth required for 20% overshoot and 2-seconds settling time._\n",
    "\n",
    "Use Eq 10.55 to compute bandwidth given damping ratio (in the form of %OS) and $T_{S}$.\n",
    "\n",
    "$$\n",
    "\\omega_{BW} = \\frac{4}{T_{s}\\zeta}\\sqrt{(1-2\\zeta^{2})+\\sqrt{4\\zeta^{4}-4\\zeta^{2}+2}}\n",
    "$$\n",
    "\n",
    "First, compute $\\zeta$ with the given %OS.\n",
    "\n",
    "$$\n",
    "\\zeta = \\frac{-ln(\\frac{OS}{100})}{\\sqrt{\\pi^{2}+ln^{2}(\\frac{OS}{100})}}\n",
    "= \\frac{-ln(0.2)}{\\sqrt{\\pi^{2}+ln^{2}(0.2)}}\n",
    "= 0.456\n",
    "$$\n",
    "\n",
    "Substitute $T_{s} = 2$ and $\\zeta = 0.456$ into the $\\omega_{BW}$ equation above.\n",
    "\n",
    "$$\n",
    "\\omega_{BW} = \\frac{4}{T_{s}\\zeta}\\sqrt{(1-2\\zeta^{2})+\\sqrt{4\\zeta^{4}-4\\zeta^{2}+2}}\n",
    " = \\frac{4}{(2)(0.456)}\\sqrt{(1-2(0.456)^{2})+\\sqrt{4(0.456)^{4}-4(0.456)^{2}+2}}\n",
    " = 5.79\n",
    "$$\n",
    "\n",
    "The bandwidth needed is 5.79 rad/s."
   ]
  }
 ],
 "metadata": {
  "language_info": {
   "name": "python"
  }
 },
 "nbformat": 4,
 "nbformat_minor": 5
}
