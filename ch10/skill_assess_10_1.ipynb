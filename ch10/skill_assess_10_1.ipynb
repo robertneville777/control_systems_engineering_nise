{
 "cells": [
  {
   "cell_type": "markdown",
   "id": "2fbda563",
   "metadata": {},
   "source": [
    "## Skill-Assessment Exercise 10.1\n",
    "\n",
    "### PART A\n",
    "_Find analytical expressions for the magnitude and phase responses of_\n",
    "\n",
    "$$\n",
    "G(s) = \\frac{1}{(s+2)(s+4)}\n",
    "$$\n",
    "\n",
    "Substitute $s = \\omega i$\n",
    "\n",
    "$$\n",
    "G(\\omega i) = \\frac{1}{(\\omega i+2)(\\omega i+4)} = \\frac{1}{8-\\omega ^{2} + 6\\omega i}\n",
    "$$\n",
    "\n",
    "The denominator is a complex number in Cartesian form. Convert to polar form. Recall that the polar form of a complex number is $me^{i\\theta}$ where magnitude $m = \\sqrt{re^{2} + im^{2}}$ and angle $\\theta = tan^{-1}\\frac{re}{im}$. Thus the complex number in the denominator in polar form is\n",
    "\n",
    "$$\n",
    "\\sqrt{(8-\\omega ^{2})^{2} + (6\\omega)^{2}} e^{itan^{-1}\\frac{6\\omega}{8-\\omega ^{2}}}\n",
    "$$\n",
    "\n",
    "Writing the overall form of $G(\\omega i)$ including the numerator and the denominator\n",
    "\n",
    "$$\n",
    "\\frac{e^{-itan^{-1}\\frac{6\\omega}{8-\\omega ^{2}}}}{\\sqrt{(8-\\omega ^{2})^{2} + 6\\omega^{2}}}\n",
    "$$\n",
    "\n",
    "Since the above is in polar form, the magnitude is simply\n",
    "\n",
    "$$\n",
    "M(\\omega) = \\frac{1}{\\sqrt{(8-\\omega ^{2})^{2} + (6\\omega)^{2}}}\n",
    "$$\n",
    "\n",
    "The angle or phase is \n",
    "\n",
    "$$\n",
    "\\phi (\\omega) = -tan^{-1}\\frac{6\\omega}{8-\\omega ^{2}}\n",
    "$$\n",
    "\n",
    "I'm not sure about the inequalities given for $\\phi (\\omega)$ in the book's answer.\n",
    "\n"
   ]
  },
  {
   "cell_type": "markdown",
   "id": "dd74f941",
   "metadata": {},
   "source": [
    "### PART B\n",
    "_Make plots of the log-magnitude and the phase, using log-frequency in rad/s as the ordinate._\n",
    "\n",
    "Two methods are shown below: manual using our derived analytical expressions and using a Bode plot function for the original system. For some reason, the phase plot of the manual method doesn't look right and needs to be fixed. The expressions for the inequalities probably need to be used, as well as converting radians in y-axis to degrees."
   ]
  },
  {
   "cell_type": "code",
   "execution_count": null,
   "id": "c6054a94",
   "metadata": {},
   "outputs": [],
   "source": [
    "#  Import libraries\n",
    "import numpy as np\n",
    "import matplotlib.pyplot as plt\n",
    "import control as ct\n",
    "from scipy import signal\n",
    "# Make interactable plots\n",
    "%matplotlib ipympl"
   ]
  },
  {
   "cell_type": "code",
   "execution_count": null,
   "id": "3a5ee02f",
   "metadata": {},
   "outputs": [],
   "source": [
    "#  MANUAL METHOD\n",
    "w = np.arange(0.1,100.1,1)           # Create vector from 0.1 to 100.1 with spacing 1\n",
    "m = 1/np.sqrt((8-w**2)**2+(6*w)**2)  # Compute magnitude response\n",
    "m_db = 20*np.log10(m)                # Convert magnitude to dB\n",
    "phi = -np.arctan((6*w)/(8-w**2))     # Compute phase response\n",
    "\n",
    "fig = plt.figure(1)                  # Create figure 1\n",
    "fig.subplots_adjust(hspace = 0.75)   # Add spacing between subplots\n",
    "\n",
    "# Plot magnitude\n",
    "ax1 = fig.add_subplot(211)           # 211 means 2-by-1 grid, select plot 1\n",
    "ax1.semilogx(w,m_db)                 # Plot frequency in log scale\n",
    "ax1.set_ylim(-100,0)                 # Set y-axis limits\n",
    "ax1.set_xlabel('Frequency (rad/s)')\n",
    "ax1.set_ylabel('Magnitude (dB)')\n",
    "ax1.set_title('Magnitude Response')\n",
    "ax1.grid(True)\n",
    "\n",
    "# Plot phase\n",
    "ax1 = fig.add_subplot(212)           # 211 means 2-by-1 grid, select plot 2\n",
    "ax1.semilogx(w,phi)                  # Plot frequency in log scale\n",
    "# ax1.set_ylim(-100,0)               # Set y-axis limits\n",
    "ax1.set_xlabel('Frequency (rad/s)')\n",
    "ax1.set_ylabel('Phase (rad)')\n",
    "ax1.set_title('Phase Response')\n",
    "ax1.grid(True)\n",
    "\n",
    "# Clean up workspace\n",
    "del w, m, m_db, phi, fig, ax1"
   ]
  },
  {
   "cell_type": "code",
   "execution_count": null,
   "id": "d432679e",
   "metadata": {},
   "outputs": [],
   "source": [
    "# BODE PLOT FUNCTION METHOD\n",
    "numg = [1]\n",
    "deng = np.poly([-2,-4])\n",
    "G = ct.tf(numg, deng)\n",
    "\n",
    "fig = plt.figure(2)\n",
    "# ax1 = fig.add_subplot(111)\n",
    "ct.bode(G, dB=True)\n",
    "\n",
    "# Clean up workspace\n",
    "del numg, deng, G, fig"
   ]
  },
  {
   "cell_type": "markdown",
   "id": "1ebf1b5b",
   "metadata": {},
   "source": [
    "### PART C\n",
    "_Make a polar plot of the frequency response._\n",
    "\n",
    "Cheating by using the Nyquist plot function to generate the polar frequency response.\n",
    "\n",
    "Possible to make the dotted \"mirror\" image go away?"
   ]
  },
  {
   "cell_type": "code",
   "execution_count": null,
   "id": "572d4e02",
   "metadata": {},
   "outputs": [],
   "source": [
    "numg = [1]\n",
    "deng = np.poly([-2,-4])\n",
    "G = ct.tf(numg, deng)\n",
    "\n",
    "fig = plt.figure(3)\n",
    "ax1 = fig.add_subplot(111)\n",
    "ax1.set_xlim(-0.025, 0.135) # Set x axis limits\n",
    "ct.nyquist_plot(G)\n",
    "\n",
    "# Clean up workspace\n",
    "del numg, deng, G, fig, ax1"
   ]
  }
 ],
 "metadata": {
  "kernelspec": {
   "display_name": "base",
   "language": "python",
   "name": "python3"
  },
  "language_info": {
   "codemirror_mode": {
    "name": "ipython",
    "version": 3
   },
   "file_extension": ".py",
   "mimetype": "text/x-python",
   "name": "python",
   "nbconvert_exporter": "python",
   "pygments_lexer": "ipython3",
   "version": "3.13.5"
  }
 },
 "nbformat": 4,
 "nbformat_minor": 5
}
