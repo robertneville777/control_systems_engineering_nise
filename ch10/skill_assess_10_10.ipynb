{
 "cells": [
  {
   "cell_type": "markdown",
   "id": "0182db74",
   "metadata": {},
   "source": [
    "## Skill-Assessment Exercise 10.10\n",
    "\n",
    "#### PROBLEM\n",
    "\n",
    "Find the static error constants for a stable unity feedback system whose open-loop transfer function has the Bode magnitude plot shown in Figure 10.53.\n",
    "\n",
    "#### ANSWER\n",
    "\n",
    "The method to finding the static error constant from an open-loop magnitude Bode plot is to first find the initial slope. The slope (0 dB/dec, -20 dB/dec, or -40 dB/dec) determines the system type (Type 0, Type 1, Type 2, see Table 7.2) and how to proceed.\n",
    "\n",
    "If the initial slope is 0 deg, the system is Type 0, and the error constant is the magntiude at 0 dB.\n",
    "\n",
    "If the initial slope is -20 dB/dec, the system is Type 1. Take this initial slope and follow it until it intersects the 0dB magnitude line. The frequency at which the slope line intersect 0dB is the error constant $K_{p}$.\n",
    "\n",
    "If the initial slope is -40 dB/dec, the system is Type 2. Similar to before, take the initial -40dB/dec slope and find the frequency where it intersects the 0dB magnitude line. The error constant $K_{v}$ is the _**square**_ of this frequency.\n",
    "\n",
    "As usual, it is difficult to use the book's charts, so I had to use the solutions manual for precision.\n",
    "\n",
    "If the initial slope is taken to be from 0.01 to 2 rad/s, the slope appears to be -40dB/dec. This means the system is Type 2, and thus $K_{p}$ and $K_{v}$ $=\\infty$ (Table 7.2).\n",
    "\n",
    "Follow the -40dB/dec slope down to where it crosses the 0dB line at $\\approx$ 9 rad/s. The solutions manual says 9.5 rad/s, which I have no idea how that was determined that precisely from eyeballing and using a straight-edge. Regardless, take the square of the intersection frequency, and the result is the error constant $K_{a} = 9.5^{2} = 90.25$."
   ]
  }
 ],
 "metadata": {
  "kernelspec": {
   "display_name": "base",
   "language": "python",
   "name": "python3"
  },
  "language_info": {
   "name": "python",
   "version": "3.13.5"
  }
 },
 "nbformat": 4,
 "nbformat_minor": 5
}
