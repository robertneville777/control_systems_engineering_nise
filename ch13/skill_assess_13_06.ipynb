{
 "cells": [
  {
   "cell_type": "markdown",
   "id": "6b58eb37",
   "metadata": {},
   "source": [
    "## Skill-Assessment Exercise 13.6\n",
    "\n",
    "#### PROBLEM\n",
    "\n",
    "Given $T(z) = N(z) / D(z)$, where $D(z) = z^{3} - z^{2} -0.5z + 0.3$, use the Routh-Hurwitz criterion to find the number of z-plane poles of $T(z)$ inside, outside, and on the unit circle. Is the system stable?\n",
    "\n",
    "#### ANSWER\n",
    "Since $D(z)$ is the denominator of the closed-loop transfer function, the Routh-Hurwitz table is almost ready to be constructed. However, the method we're familiar with is done in the s-domain, so $D(z)$ must first be converted to $D(s)$. The bilinear transform is used here, where the substitution $z = (s+1)/(s-1)$ is used to convert from z-domain to s-domain. Per the footnote for Example 13.8, a symbolic math Python library is used to bypass the tedious algebraic simplification after substitution."
   ]
  },
  {
   "cell_type": "code",
   "execution_count": 3,
   "id": "3a66a4bb",
   "metadata": {},
   "outputs": [
    {
     "data": {
      "text/latex": [
       "$\\displaystyle \\frac{- 0.2 s^{3} + 1.6 s^{2} + 5.4 s + 1.2}{1.0 s^{3} - 3.0 s^{2} + 3.0 s - 1.0}$"
      ],
      "text/plain": [
       "(-0.2*s**3 + 1.6*s**2 + 5.4*s + 1.2)/(1.0*s**3 - 3.0*s**2 + 3.0*s - 1.0)"
      ]
     },
     "execution_count": 3,
     "metadata": {},
     "output_type": "execute_result"
    }
   ],
   "source": [
    "#  Import libraries\n",
    "import numpy as np\n",
    "import sympy as sp\n",
    "\n",
    "# Use bilinear transform to go from z-domain to s-domain\n",
    "s, z = sp.symbols(\"s z\")\n",
    "D_z = z**3 -z**2 -0.5*z + 0.3\n",
    "D_s = D_z.subs(z,(s+1)/(s-1))\n",
    "D_s1 = sp.simplify(D_s)\n",
    "D_s1\n",
    "# sp.print_latex(D_s1) $ Generate Latex code used below\n",
    "# D_s2 = sp.simplify(D_s1*-5)\n",
    "# D_s2 # Print out D(s) pretty"
   ]
  },
  {
   "cell_type": "markdown",
   "id": "bb0fcbd2",
   "metadata": {},
   "source": [
    "The bilinear transform of $D(z)$ resulting in $D(s)$, is above. Remember that the poles of the system are what we are concerned with, specifically when the denominator of the system equals 0; in this case, when $D(s)$ = 0. Setting $D(s)$ = 0, the denominator of $D(s)$ can be multiplied out, and the numerator of $D(s)$ can be further simplified by multiplying by -5 to make the first coefficient equal to 1. This is done below.\n",
    "\n",
    "$$\n",
    "D(s) = \\frac{- 0.2 s^{3} + 1.6 s^{2} + 5.4 s + 1.2}{1.0 s^{3} - 3.0 s^{2} + 3.0 s - 1.0} = 0\n",
    "$$\n",
    "\n",
    "$$\n",
    "\\Rightarrow - 0.2 s^{3} + 1.6 s^{2} + 5.4 s + 1.2 = 0\n",
    "$$\n",
    "\n",
    "$$\n",
    "\\Rightarrow s^{3} - 8 s^{2} - 27 s - 6 = 0\n",
    "$$\n",
    "\n",
    "With the coefficients of the denominator in a simplified form, these can now be used in the Routh array. The routh function from the [tbcontrol](https://pypi.org/project/tbcontrol/) library computes this.\n"
   ]
  },
  {
   "cell_type": "code",
   "execution_count": 9,
   "id": "5bcf4d63",
   "metadata": {},
   "outputs": [
    {
     "data": {
      "text/latex": [
       "$\\displaystyle \\left[\\begin{matrix}1 & -27\\\\-8 & -6\\\\- \\frac{111}{4} & 0\\\\-6 & 0\\end{matrix}\\right]$"
      ],
      "text/plain": [
       "Matrix([\n",
       "[     1, -27],\n",
       "[    -8,  -6],\n",
       "[-111/4,   0],\n",
       "[    -6,   0]])"
      ]
     },
     "execution_count": 9,
     "metadata": {},
     "output_type": "execute_result"
    }
   ],
   "source": [
    "from tbcontrol.symbolic import routh\n",
    "p = sp.Poly(s**3 -8*s**2 - 27*s - 6)\n",
    "routh(p)"
   ]
  },
  {
   "cell_type": "markdown",
   "id": "d9b95ad7",
   "metadata": {},
   "source": [
    "The first column of the routh array has one sign change indicating that one pole is in the RHS of the s-plane or outside the unit circle of the z-plane. This is an unstable pole, so the system is unstable. Since there is no row of entirely zeros, there are no poles on the s-plane $j\\omega$ axis or z-plane unit circle; thus, the system has no marginally stable poles. The rest of the poles (the other 2 of this 3 pole system) lie in the LHS of the s-plane, or inside the unit circle of the z-plane, meaning these poles are stable."
   ]
  }
 ],
 "metadata": {
  "kernelspec": {
   "display_name": "base",
   "language": "python",
   "name": "python3"
  },
  "language_info": {
   "codemirror_mode": {
    "name": "ipython",
    "version": 3
   },
   "file_extension": ".py",
   "mimetype": "text/x-python",
   "name": "python",
   "nbconvert_exporter": "python",
   "pygments_lexer": "ipython3",
   "version": "3.13.5"
  }
 },
 "nbformat": 4,
 "nbformat_minor": 5
}
