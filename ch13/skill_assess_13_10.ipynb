{
 "cells": [
  {
   "cell_type": "markdown",
   "id": "e7dd2727",
   "metadata": {},
   "source": [
    "## Skill-Assessment Exercise 13.10\n",
    "\n",
    "#### PROBLEM\n",
    "\n",
    "Draw a flowchart from which the compensator\n",
    "\n",
    "$$\n",
    "G_{c}(s) = \\frac{1899z^2 - 3761z + 1861}{z^2 - 1.908z + 0.9075}\n",
    "$$\n",
    "\n",
    "can be programmed if the sampling interval is 0.1 second.\n",
    "\n",
    "#### ANSWER\n",
    "Example 13.13 is used as a guide for this solution.\n",
    "\n",
    "From Figure 13.27, $G_{c}(s) = \\frac{X(z)}{E(z)}$.\n",
    "\n",
    "$$\n",
    "G_{c}(s) = \\frac{X(z)}{E(z)} = \\frac{1899z^2 - 3761z + 1861}{z^2 - 1.908z + 0.9075}\n",
    "$$\n",
    "\n",
    "Cross multiply.\n",
    "\n",
    "$$\n",
    "E(z)(1899z^2 - 3761z + 1861) = X(z)(z^2 - 1.908z + 0.9075)\n",
    "$$\n",
    "\n",
    "Solve for the highest power of $z$ operating on the output $X(z)$.\n",
    "\n",
    "$$\n",
    "z^2X(z) = E(z)(1899z^2 - 3761z + 1861) - X(z)(- 1.908z + 0.9075)\n",
    "$$\n",
    "\n",
    "Solve for $X(z)$ on the left-hand side.\n",
    "\n",
    "$$\n",
    "X(z) = E(z)(1899 - 3761z^{-1} + 1861z^{-2}) - X(z)(- 1.908z^{-1} + 0.9075z^{-2})\n",
    "$$\n",
    "\n",
    "$$\n",
    "X(z) = E(z)(1899 - 3761z^{-1} + 1861z^{-2}) + X(z)(1.908z^{-1} - 0.9075z^{-2})\n",
    "$$\n",
    "\n",
    "Drawing diagrams in Latex typically uses [TikZ](https://en.wikipedia.org/wiki/PGF/TikZ). However, this is [not supported by default](https://pypi.org/project/jupyter-tikz/) in Jupyter notebooks. For this exercise, an [external tool](/www.mathcha.io) was used and an image was generated.\n",
    "\n",
    "![title](images/skill_assess_13_10.svg)\n"
   ]
  }
 ],
 "metadata": {
  "language_info": {
   "name": "python"
  }
 },
 "nbformat": 4,
 "nbformat_minor": 5
}
