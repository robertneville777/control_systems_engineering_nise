{
 "cells": [
  {
   "cell_type": "markdown",
   "id": "926b4029",
   "metadata": {},
   "source": [
    "## Skill-Assessment Exercise 13.7\n",
    "\n",
    "#### PROBLEM\n",
    "\n",
    "For step, ramp, and parabolic inputs, find the steady-state error for the feedback control system shown in Figure 13.17(a) if\n",
    "\n",
    "$$\n",
    "G_{1}(s) = \\frac{20(s+3)}{(s+4)(s+5)}\n",
    "$$\n",
    "\n",
    "Let $T=0.1$ second. Repeat for $T=0.5$ second."
   ]
  },
  {
   "cell_type": "markdown",
   "id": "569fc88c",
   "metadata": {},
   "source": [
    "#### ANSWER\n",
    "The steady state error factors ($K_{p}, K_{v}, K_{a}$) depend on $G(z)$, so this will be found first. Afterwards, the error factors will be computed. Lastly, the closed-loops system's stability will be determined based on the sampling period $T$.\n",
    "\n",
    "To compute $G(z)$, we first multiply $G_{1}(s)$ by the ZOH system, and bring the $s$ of the ZOH denominator over to the denominator of $G_{1}$.\n",
    "\n",
    "$$\n",
    "G(s) = \\frac{1-e^{-Ts}}{s} \\cdot \\frac{20(s+3)}{(s+4)(s+5)}\n",
    "$$\n",
    "\n",
    "$$\n",
    "G(s) = (1-e^{-Ts}) \\cdot \\frac{20(s+3)}{s(s+4)(s+5)}\n",
    "$$\n",
    "\n",
    "Take z-transform of $G(s)$. Substitute $z = e^{Ts}$. Leave right side factor z-transform incomplete. \n",
    "\n",
    "$$\n",
    "G(z) = (1-z^{-1}) \\cdot \\mathcal{Z} \\left( \\frac{20(s+3)}{s(s+4)(s+5)} \\right)\n",
    "$$\n",
    "\n",
    "Format left side factor by multiplying by $z/z$. This allows this factor to cancel out with other factors later.\n",
    "\n",
    "$$\n",
    "G(z) = \\frac{(z-1)}{z} \\cdot \\mathcal{Z} \\left( \\frac{20(s+3)}{s(s+4)(s+5)} \\right)\n",
    "$$\n",
    "\n",
    "\n",
    "Do partial fraction decomposition on right side factor, using Python's Sympy below.\n"
   ]
  },
  {
   "cell_type": "code",
   "execution_count": 1,
   "id": "0b1e17ee",
   "metadata": {},
   "outputs": [
    {
     "data": {
      "text/latex": [
       "$\\displaystyle - \\frac{8}{s + 5} + \\frac{5}{s + 4} + \\frac{3}{s}$"
      ],
      "text/plain": [
       "-8/(s + 5) + 5/(s + 4) + 3/s"
      ]
     },
     "execution_count": 1,
     "metadata": {},
     "output_type": "execute_result"
    }
   ],
   "source": [
    "#  Import libraries\n",
    "import sympy as sp\n",
    "\n",
    "# Partial fraction decomposition\n",
    "s   = sp.symbols('s')\n",
    "G2  = 20*(s + 3)/(s*(s + 4)*(s + 5))\n",
    "G2d = sp.apart(G2,s)\n",
    "G2d\n",
    "\n",
    "# sp.print_latex(G2d) # Generate Latex code"
   ]
  },
  {
   "cell_type": "markdown",
   "id": "089f6aab",
   "metadata": {},
   "source": [
    "Taking the z-transform of these factors results in\n",
    "\n",
    "$$\n",
    "\\frac{-8z}{z-e^{-5T}} + \\frac{5z}{z-e^{-4T}} + \\frac{3z}{z-1}\n",
    "$$\n",
    "\n",
    "Place this back into $G(z)$.\n",
    "\n",
    "$$\n",
    "G(z) =  \\frac{z-1}{z} \\left( \\frac{-8z}{z-e^{-5T}} + \\frac{5z}{z-e^{-4T}} + \\frac{3z}{z-1} \\right)\n",
    "$$\n",
    "\n",
    "Multiply left side factor through.\n",
    "\n",
    "$$\n",
    "G(z) = \\frac{-8(z-1)}{z-e^{-5T}} + \\frac{5(z-1)}{z-e^{-4T}} + 3\n",
    "$$\n"
   ]
  },
  {
   "cell_type": "markdown",
   "id": "23b8747c",
   "metadata": {},
   "source": [
    "Now the error factors can be computed.\n",
    "\n",
    "For $K_{p}$, \n",
    "$$\n",
    "K_{p} = \\lim_{z\\to1} G(z) = \\frac{-8(1-1)}{1-e^{-5T}} + \\frac{5(1-1)}{1-e^{-4T}} + 3\n",
    "$$\n",
    "$$\n",
    "K_{p} = 3\n",
    "$$\n",
    "\n",
    "For $K_{v}$, $1/T$ will be ignored for now, since the limit goes to 0 and $1/T$ has no effect.\n",
    "$$\n",
    "K_{v} = \\frac{1}{T}\\lim_{z\\to1}(z-1)G(z) \\Rightarrow \\frac{-8(z-1)^{2}}{z-e^{-5T}} + \\frac{5(z-1)^{2}}{z-e^{-4T}} + 3(z-1)\n",
    "$$\n",
    "$$\n",
    "\\Rightarrow \\frac{-8(1-1)^{2}}{1-e^{-5T}} + \\frac{5(1-1)^{2}}{1-e^{-4T}} + 3(1-1)\n",
    "$$\n",
    "$$\n",
    "K_{v} = 0\n",
    "$$\n",
    "\n",
    "For $K_{v}$, $1/T^{2}$ wil be ignored for now, since the limit goes to 0 and $1/T^{2}$ has no effect.\n",
    "$$\n",
    "K_{p} = \\frac{1}{T^{2}}\\lim_{z\\to1}(z-1)^{2}G(z) \\Rightarrow \\frac{-8(z-1)^{3}}{z-e^{-5T}} + \\frac{5(z-1)^{3}}{z-e^{-4T}} + 3(z-1)^{2}\n",
    "$$\n",
    "$$\n",
    "\\Rightarrow \\frac{-8(1-1)^{3}}{1-e^{-5T}} + \\frac{5(1-1)^{3}}{1-e^{-4T}} + 3(1-1)^{2}\n",
    "$$\n",
    "$$\n",
    "K_{v} = 0\n",
    "$$"
   ]
  },
  {
   "cell_type": "markdown",
   "id": "eebba0be",
   "metadata": {},
   "source": [
    "Now stability will be determined based off $T$. First, compute $G(z)$ for the given $T$, for both 0.1 and 0.5 sec. Next, convert $G(z)$ to the closed loop transfer function $T(z)$.\n",
    "\n",
    "$$\n",
    "T(z) = \\frac{G(z)}{1+G(z)}\n",
    "$$\n",
    "\n",
    "Lastly, find the roots of $T(z)$ and determine stability based on if roots are in or outside the unit circle.\n",
    "\n",
    "This is done using the Python Sympy library below."
   ]
  },
  {
   "cell_type": "code",
   "execution_count": 2,
   "id": "ca2b178f",
   "metadata": {},
   "outputs": [
    {
     "name": "stdout",
     "output_type": "stream",
     "text": [
      "Roots of T(z) when T = 0.1\n",
      "{-0.95742318509642: 1, 0.734918938367563: 1}\n",
      "\n",
      "Roots of T(z) when T = 0.5\n",
      "{-3.01107984467085: 1, 0.208503699339486: 1}\n"
     ]
    }
   ],
   "source": [
    "# Setup G(z)\n",
    "z, T = sp.symbols('z T')\n",
    "G = -8*(z-1)/(z-sp.exp(-5*T)) + 5*(z-1)/(z-sp.exp(-4*T)) + 3\n",
    "\n",
    "# Compute G(z) for T = 0.1, compute T(z), and compute roots of T(z).\n",
    "G01 = G.subs(T, 0.1)        # Compute G(z) for T = 0.1 s\n",
    "T01 = G01/(1+G01)           # Compute T(z)\n",
    "T01s = sp.simplify(T01)     # Simplify T(z)\n",
    "T01sd = sp.denom(T01s)      # Extract denominator of T(z)\n",
    "T01sdr = sp.roots(T01sd,z)  # Compute roots of T(z)\n",
    "\n",
    "# Compute G(z) for T = 0.5, compute T(z), and compute roots of T(z).\n",
    "G05 = G.subs(T, 0.5)        # Compute G(z) for T = 0.5 s\n",
    "T05 = G05/(1+G05)           # Compute T(z)\n",
    "T05s = sp.simplify(T05)     # Simplify T(z)\n",
    "T05sd = sp.denom(T05s)      # Extract denominator of T(z)\n",
    "T05sdr = sp.roots(T05sd,z)  # Compute roots of T(z)\n",
    "\n",
    "print(\"Roots of T(z) when T = 0.1\")\n",
    "sp.pprint(T01sdr)\n",
    "\n",
    "print(\"\\nRoots of T(z) when T = 0.5\")\n",
    "sp.pprint(T05sdr)"
   ]
  },
  {
   "cell_type": "markdown",
   "id": "e7d75090",
   "metadata": {},
   "source": [
    "Viewing the roots computed above, when $T = 0.1s$, both roots are less than 1, so this system is stable. However, when $T = 0.5s$, one of its roots is -3, which is outside the unit circle, making this system unstable."
   ]
  }
 ],
 "metadata": {
  "kernelspec": {
   "display_name": "base",
   "language": "python",
   "name": "python3"
  },
  "language_info": {
   "codemirror_mode": {
    "name": "ipython",
    "version": 3
   },
   "file_extension": ".py",
   "mimetype": "text/x-python",
   "name": "python",
   "nbconvert_exporter": "python",
   "pygments_lexer": "ipython3",
   "version": "3.13.5"
  }
 },
 "nbformat": 4,
 "nbformat_minor": 5
}
