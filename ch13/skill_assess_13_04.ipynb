{
 "cells": [
  {
   "cell_type": "markdown",
   "id": "f65e6e02",
   "metadata": {},
   "source": [
    "## Skill-Assessment Exercise 13.4\n",
    "\n",
    "#### PROBLEM\n",
    "\n",
    "Find $T(z) = \\frac{C(z)}{R(z)}$ for the system shown in Figure 13.11.\n",
    "\n",
    "#### ANSWER\n",
    "\n",
    "A full solution will not be given here since Example 13.5 is almost the same. The only difference is instead of $G(s)$ we have $G_{1}(s)$ and $G_{2}(s)$. Let $G(s) = G_{1}(s)G_{2}(s)$ since they are in cascade and can be multiplied together. Thus, instead of the $G(s)$ block in Figure 13.10a, we have a $G_{1}(s)G_{2}(s)$ block. Now the same solution in Example 13.5 can be followed.  We just need to remember that the z-transform of $G_{1}(s)G_{2}(s)$ is $G_{1}G_{2}(z)$, not $G_{1}(z)G_{2}(z)$. In other words, the z-transform of the product of two systems (of $s$) is not equal to the product of the z-transforms of the individual systems (of $s$).\n",
    "\n",
    "In the answer for Example 13.5, the answer for our problem is the same if $G$ is replaced $G_{1}G_{2}$."
   ]
  }
 ],
 "metadata": {
  "kernelspec": {
   "display_name": "base",
   "language": "python",
   "name": "python3"
  },
  "language_info": {
   "name": "python",
   "version": "3.13.5"
  }
 },
 "nbformat": 4,
 "nbformat_minor": 5
}
