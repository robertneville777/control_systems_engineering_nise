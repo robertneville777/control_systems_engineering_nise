{
 "cells": [
  {
   "cell_type": "markdown",
   "id": "bcda7af7",
   "metadata": {},
   "source": [
    "## Chapter 9 - Miscellaneous Exercises\n",
    "\n",
    "### TryIt 9.1 - Lag (Non-Ideal Compensator)\n",
    "Use the following Python and Python Control Systems library to reproduce Figure 9.13"
   ]
  },
  {
   "cell_type": "code",
   "execution_count": 1,
   "id": "01a590b9",
   "metadata": {},
   "outputs": [
    {
     "data": {
      "text/plain": [
       "<control.timeresp.TimeResponseData at 0x141ae56d0>"
      ]
     },
     "execution_count": 1,
     "metadata": {},
     "output_type": "execute_result"
    }
   ],
   "source": [
    "import numpy as np\n",
    "import control as ct\n",
    "\n",
    "# Create transfer function with zeros, poles, and gain\n",
    "Gu = ct.zpk([],[-1,-2,-10],164.6)   # Create plant transfer function\n",
    "Gc = ct.zpk([-0.111],[-0.01],1)     # Create lag compensator transfer function\n",
    "Gce = Gu*Gc                         # Cascade the systems by multiplying\n",
    "\n",
    "# Place open-loop transfer functions into a negative feedback loop\n",
    "Tu = ct.feedback(Gu,1)              # Place uncompensated system in a unity feedback loop\n",
    "Tc = ct.feedback(Gce,1)             # Place compensated system in a unity feedback loop\n",
    "\n",
    "# Plot step response of both uncompensated and compensated systems and compare\n",
    "ct.step_response(Tu)\n",
    "\n"
   ]
  }
 ],
 "metadata": {
  "kernelspec": {
   "display_name": "base",
   "language": "python",
   "name": "python3"
  },
  "language_info": {
   "codemirror_mode": {
    "name": "ipython",
    "version": 3
   },
   "file_extension": ".py",
   "mimetype": "text/x-python",
   "name": "python",
   "nbconvert_exporter": "python",
   "pygments_lexer": "ipython3",
   "version": "3.13.5"
  }
 },
 "nbformat": 4,
 "nbformat_minor": 5
}
