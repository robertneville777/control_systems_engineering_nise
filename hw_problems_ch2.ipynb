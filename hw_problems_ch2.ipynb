{
 "cells": [
  {
   "cell_type": "markdown",
   "metadata": {},
   "source": [
    "# Chapter 2 HW Problems\n",
    "## Section 2.2\n",
    "The following Python code is used in aiding calculations for the following problems. The following code and text snippets most likely will not contain all the code, information, and explanation necessary to solve the problem."
   ]
  },
  {
   "cell_type": "markdown",
   "metadata": {},
   "source": [
    "__Problem 4.b__\n",
    "The problem is finding the solution for a 2nd order differential equation of x(t) using the Laplace transform method. After taking the Laplace transform of the DE and solving for X(s) results in multiple fractions on the right hand side. The following is one of them.\n",
    "\n",
    "$ X(S) = \\frac{15}{(s^{2}+9)(s^{2}+6s+8)} $\n",
    "\n",
    "Performing partial fraction expansion on the right hand side:\n",
    "\n",
    "$ \\frac{15}{(s^{2}+9)(s+2)(s+4)} = \\frac{A}{s^{2}+9} + \\frac{B}{s+2} + \\frac{Cs+D}{s^{2}+9} $\n",
    "\n",
    "Will lead to:\n",
    "\n",
    "$ 15 = s^{3}(A+B+C) + s^{2}(4A+2B+6C+D) + s(9A+9B+8C+10D) + (36A+18B+8D) $\n",
    "\n",
    "Equating coefficients and solving for $A,B,C,D$:"
   ]
  },
  {
   "cell_type": "code",
   "execution_count": 1,
   "metadata": {},
   "outputs": [
    {
     "name": "stdout",
     "output_type": "stream",
     "text": [
      "(Matrix([\n",
      "[1, 0, 0, 0,  15/26],\n",
      "[0, 1, 0, 0,  -3/10],\n",
      "[0, 0, 1, 0, -18/65],\n",
      "[0, 0, 0, 1,  -3/65]]), (0, 1, 2, 3))\n"
     ]
    }
   ],
   "source": [
    "import sympy as sym\n",
    "\n",
    "M = sym.Matrix([[1,1,1,0,0],[4,2,6,1,0],[9,9,8,6,0],[36,18,0,8,15]])\n",
    "ans = M.rref()\n",
    "print(ans)"
   ]
  },
  {
   "cell_type": "markdown",
   "metadata": {},
   "source": [
    "Thus $ A = \\frac{15}{26}, B = \\frac{-3}{10}, C=\\frac{-18}{65}, D=\\frac{-3}{65} $"
   ]
  },
  {
   "cell_type": "code",
   "execution_count": null,
   "metadata": {},
   "outputs": [],
   "source": []
  }
 ],
 "metadata": {
  "kernelspec": {
   "display_name": "Python 3",
   "language": "python",
   "name": "python3"
  },
  "language_info": {
   "codemirror_mode": {
    "name": "ipython",
    "version": 3
   },
   "file_extension": ".py",
   "mimetype": "text/x-python",
   "name": "python",
   "nbconvert_exporter": "python",
   "pygments_lexer": "ipython3",
   "version": "3.7.0"
  }
 },
 "nbformat": 4,
 "nbformat_minor": 2
}
